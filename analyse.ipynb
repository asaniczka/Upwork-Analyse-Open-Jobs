{
 "cells": [
  {
   "cell_type": "markdown",
   "metadata": {},
   "source": [
    "## Data Analysis Observation:\n",
    "\n",
    "- Open and unfulfilled jobs on Upwork mention popular websites such as Amazon, TikTok, LinkedIn, Real Estate, and Google Maps.\n",
    "- The current data may not offer a comprehensive understanding of clients’ most sought-after services.\n",
    "- Limited focus on these specific sites implies little competition among freelancers in these areas.\n",
    "- More data on job postings and price ranges on Upwork is needed to identify potentially lucrative opportunities, even in competitive fields."
   ]
  },
  {
   "cell_type": "code",
   "execution_count": 40,
   "metadata": {},
   "outputs": [],
   "source": [
    "import pandas as pd\n",
    "import matplotlib.pyplot as plt\n",
    "from rich import print\n",
    "import csv"
   ]
  },
  {
   "cell_type": "code",
   "execution_count": 41,
   "metadata": {},
   "outputs": [],
   "source": [
    "df = pd.read_csv(\"inputs/Upwork My Jobs 200.csv\")"
   ]
  },
  {
   "cell_type": "markdown",
   "metadata": {},
   "source": [
    "## Data Cleaning"
   ]
  },
  {
   "cell_type": "code",
   "execution_count": 42,
   "metadata": {},
   "outputs": [
    {
     "name": "stdout",
     "output_type": "stream",
     "text": [
      "<class 'pandas.core.frame.DataFrame'>\n",
      "RangeIndex: 436 entries, 0 to 435\n",
      "Data columns (total 1 columns):\n",
      " #   Column  Non-Null Count  Dtype \n",
      "---  ------  --------------  ----- \n",
      " 0   column  436 non-null    object\n",
      "dtypes: object(1)\n",
      "memory usage: 3.5+ KB\n"
     ]
    }
   ],
   "source": [
    "df.info()"
   ]
  },
  {
   "cell_type": "code",
   "execution_count": 43,
   "metadata": {},
   "outputs": [
    {
     "data": {
      "text/html": [
       "<div>\n",
       "<style scoped>\n",
       "    .dataframe tbody tr th:only-of-type {\n",
       "        vertical-align: middle;\n",
       "    }\n",
       "\n",
       "    .dataframe tbody tr th {\n",
       "        vertical-align: top;\n",
       "    }\n",
       "\n",
       "    .dataframe thead th {\n",
       "        text-align: right;\n",
       "    }\n",
       "</style>\n",
       "<table border=\"1\" class=\"dataframe\">\n",
       "  <thead>\n",
       "    <tr style=\"text-align: right;\">\n",
       "      <th></th>\n",
       "      <th>column</th>\n",
       "    </tr>\n",
       "  </thead>\n",
       "  <tbody>\n",
       "    <tr>\n",
       "      <th>0</th>\n",
       "      <td>App developer to build a web scraper</td>\n",
       "    </tr>\n",
       "    <tr>\n",
       "      <th>1</th>\n",
       "      <td>Hourly: $15-$35 - Intermediate - Est. Time: Le...</td>\n",
       "    </tr>\n",
       "    <tr>\n",
       "      <th>2</th>\n",
       "      <td>Data ScrapingAutomation</td>\n",
       "    </tr>\n",
       "    <tr>\n",
       "      <th>3</th>\n",
       "      <td>Payment verified Rating is 0 out of 5. $0 sp...</td>\n",
       "    </tr>\n",
       "    <tr>\n",
       "      <th>4</th>\n",
       "      <td>Automation script with input and chrome extens...</td>\n",
       "    </tr>\n",
       "  </tbody>\n",
       "</table>\n",
       "</div>"
      ],
      "text/plain": [
       "                                              column\n",
       "0               App developer to build a web scraper\n",
       "1  Hourly: $15-$35 - Intermediate - Est. Time: Le...\n",
       "2                            Data ScrapingAutomation\n",
       "3    Payment verified Rating is 0 out of 5. $0 sp...\n",
       "4  Automation script with input and chrome extens..."
      ]
     },
     "execution_count": 43,
     "metadata": {},
     "output_type": "execute_result"
    }
   ],
   "source": [
    "df.head()"
   ]
  },
  {
   "cell_type": "code",
   "execution_count": 44,
   "metadata": {},
   "outputs": [],
   "source": [
    "organized_data = {\"titles\": [], \"descriptions\": []}\n",
    "\n",
    "for idx, row in df.iterrows():\n",
    "    if idx % 2 == 1:\n",
    "        data = row[\"column\"]\n",
    "        organized_data[\"descriptions\"].append(data.strip().title())\n",
    "    else:\n",
    "        data = row[\"column\"]\n",
    "        organized_data[\"titles\"].append(data.strip().title())"
   ]
  },
  {
   "cell_type": "code",
   "execution_count": 45,
   "metadata": {},
   "outputs": [
    {
     "data": {
      "text/html": [
       "<div>\n",
       "<style scoped>\n",
       "    .dataframe tbody tr th:only-of-type {\n",
       "        vertical-align: middle;\n",
       "    }\n",
       "\n",
       "    .dataframe tbody tr th {\n",
       "        vertical-align: top;\n",
       "    }\n",
       "\n",
       "    .dataframe thead th {\n",
       "        text-align: right;\n",
       "    }\n",
       "</style>\n",
       "<table border=\"1\" class=\"dataframe\">\n",
       "  <thead>\n",
       "    <tr style=\"text-align: right;\">\n",
       "      <th></th>\n",
       "      <th>titles</th>\n",
       "      <th>descriptions</th>\n",
       "    </tr>\n",
       "  </thead>\n",
       "  <tbody>\n",
       "    <tr>\n",
       "      <th>0</th>\n",
       "      <td>App Developer To Build A Web Scraper</td>\n",
       "      <td>Hourly: $15-$35 - Intermediate - Est. Time: Le...</td>\n",
       "    </tr>\n",
       "    <tr>\n",
       "      <th>1</th>\n",
       "      <td>Data Scrapingautomation</td>\n",
       "      <td>Payment Verified Rating Is 0 Out Of 5. $0 Spen...</td>\n",
       "    </tr>\n",
       "    <tr>\n",
       "      <th>2</th>\n",
       "      <td>Automation Script With Input And Chrome Extens...</td>\n",
       "      <td>Fixed-Price - Intermediate - Est. Budget: $200...</td>\n",
       "    </tr>\n",
       "    <tr>\n",
       "      <th>3</th>\n",
       "      <td>Automationdata Scrapinggoogle Chrome Extension...</td>\n",
       "      <td>Payment Verified Rating Is 5 Out Of 5. $40 Spe...</td>\n",
       "    </tr>\n",
       "    <tr>\n",
       "      <th>4</th>\n",
       "      <td>Build \"Tik Tok/Ig Scraper\" For Marketing Agenc...</td>\n",
       "      <td>Hourly: $30-$50 - Expert - Est. Time: Less Tha...</td>\n",
       "    </tr>\n",
       "  </tbody>\n",
       "</table>\n",
       "</div>"
      ],
      "text/plain": [
       "                                              titles  \\\n",
       "0               App Developer To Build A Web Scraper   \n",
       "1                            Data Scrapingautomation   \n",
       "2  Automation Script With Input And Chrome Extens...   \n",
       "3  Automationdata Scrapinggoogle Chrome Extension...   \n",
       "4  Build \"Tik Tok/Ig Scraper\" For Marketing Agenc...   \n",
       "\n",
       "                                        descriptions  \n",
       "0  Hourly: $15-$35 - Intermediate - Est. Time: Le...  \n",
       "1  Payment Verified Rating Is 0 Out Of 5. $0 Spen...  \n",
       "2  Fixed-Price - Intermediate - Est. Budget: $200...  \n",
       "3  Payment Verified Rating Is 5 Out Of 5. $40 Spe...  \n",
       "4  Hourly: $30-$50 - Expert - Est. Time: Less Tha...  "
      ]
     },
     "execution_count": 45,
     "metadata": {},
     "output_type": "execute_result"
    }
   ],
   "source": [
    "organized_df = pd.DataFrame(organized_data)\n",
    "organized_df.head()"
   ]
  },
  {
   "cell_type": "code",
   "execution_count": 46,
   "metadata": {},
   "outputs": [],
   "source": [
    "organized_df.to_csv(\n",
    "    f\"checkpoints/organized_jobs.csv\", quoting=csv.QUOTE_NONNUMERIC, index=False\n",
    ")"
   ]
  },
  {
   "cell_type": "markdown",
   "metadata": {},
   "source": [
    "## Begin Analysis"
   ]
  },
  {
   "cell_type": "code",
   "execution_count": 48,
   "metadata": {},
   "outputs": [
    {
     "data": {
      "text/html": [
       "<div>\n",
       "<style scoped>\n",
       "    .dataframe tbody tr th:only-of-type {\n",
       "        vertical-align: middle;\n",
       "    }\n",
       "\n",
       "    .dataframe tbody tr th {\n",
       "        vertical-align: top;\n",
       "    }\n",
       "\n",
       "    .dataframe thead th {\n",
       "        text-align: right;\n",
       "    }\n",
       "</style>\n",
       "<table border=\"1\" class=\"dataframe\">\n",
       "  <thead>\n",
       "    <tr style=\"text-align: right;\">\n",
       "      <th></th>\n",
       "      <th>titles</th>\n",
       "    </tr>\n",
       "  </thead>\n",
       "  <tbody>\n",
       "    <tr>\n",
       "      <th>0</th>\n",
       "      <td>[App, Developer, To, Build, A, Web, Scraper]</td>\n",
       "    </tr>\n",
       "    <tr>\n",
       "      <th>1</th>\n",
       "      <td>[Data, Scrapingautomation]</td>\n",
       "    </tr>\n",
       "    <tr>\n",
       "      <th>2</th>\n",
       "      <td>[Automation, Script, With, Input, And, Chrome,...</td>\n",
       "    </tr>\n",
       "    <tr>\n",
       "      <th>3</th>\n",
       "      <td>[Automationdata, Scrapinggoogle, Chrome, Exten...</td>\n",
       "    </tr>\n",
       "    <tr>\n",
       "      <th>4</th>\n",
       "      <td>[Build, \"Tik, Tok/Ig, Scraper\", For, Marketing...</td>\n",
       "    </tr>\n",
       "  </tbody>\n",
       "</table>\n",
       "</div>"
      ],
      "text/plain": [
       "                                              titles\n",
       "0       [App, Developer, To, Build, A, Web, Scraper]\n",
       "1                         [Data, Scrapingautomation]\n",
       "2  [Automation, Script, With, Input, And, Chrome,...\n",
       "3  [Automationdata, Scrapinggoogle, Chrome, Exten...\n",
       "4  [Build, \"Tik, Tok/Ig, Scraper\", For, Marketing..."
      ]
     },
     "execution_count": 48,
     "metadata": {},
     "output_type": "execute_result"
    }
   ],
   "source": [
    "titles_df = organized_df.copy(deep=True)\n",
    "titles_df.drop(columns=\"descriptions\", inplace=True)\n",
    "\n",
    "titles_df[\"titles\"] = titles_df[\"titles\"].str.split(\" \")\n",
    "titles_df.head()"
   ]
  },
  {
   "cell_type": "code",
   "execution_count": 52,
   "metadata": {},
   "outputs": [],
   "source": [
    "titles_df = titles_df.explode(\"titles\")"
   ]
  },
  {
   "cell_type": "code",
   "execution_count": 55,
   "metadata": {},
   "outputs": [
    {
     "data": {
      "text/plain": [
       "titles\n",
       "Data                  85\n",
       "Scraping              50\n",
       "Web                   41\n",
       "Scrapingdata          36\n",
       "For                   28\n",
       "And                   24\n",
       "Extraction            21\n",
       "To                    21\n",
       "Scraper               20\n",
       "Scrape                19\n",
       "A                     16\n",
       "Website               13\n",
       "From                  13\n",
       "&                     11\n",
       "Mining                11\n",
       "Developer              9\n",
       "Miningdata             8\n",
       "Expert                 8\n",
       "Extractiondata         8\n",
       "Api                    8\n",
       "Needed                 7\n",
       "Excel                  7\n",
       "Scrapingpythondata     7\n",
       "Build                  7\n",
       "Development            7\n",
       "Extract                7\n",
       "Generationdata         6\n",
       "Create                 6\n",
       "Entry                  6\n",
       "Scrapingweb            6\n",
       "Scrapping              6\n",
       "With                   6\n",
       "Miningweb              6\n",
       "Chrome                 6\n",
       "Need                   6\n",
       "Crawlingdata           6\n",
       "Crawling               6\n",
       "Scrapinglead           5\n",
       "The                    5\n",
       "Automation             5\n",
       "Database               5\n",
       "Media                  5\n",
       "Of                     5\n",
       "Automationdata         4\n",
       "Tool                   4\n",
       "Amazon                 4\n",
       "Generation             4\n",
       "Script                 4\n",
       "Email                  4\n",
       "-                      4\n",
       "In                     4\n",
       "Social                 4\n",
       "Google                 4\n",
       "Extractionweb          4\n",
       "Pdf                    4\n",
       "Facebook               4\n",
       "Integration            3\n",
       "I                      3\n",
       "Maps                   3\n",
       "Youtube                3\n",
       "Real                   3\n",
       "Estate                 3\n",
       "Python                 3\n",
       "Project                3\n",
       "Tiktok                 3\n",
       "Scrapingpython         3\n",
       "List                   3\n",
       "Automated              3\n",
       "Linkedin               3\n",
       "/                      3\n",
       "Extension              3\n",
       "Integrationdata        3\n",
       "Etc                    3\n",
       "App                    3\n",
       "Using                  3\n",
       "Marketing              3\n",
       "Code                   3\n",
       "Companies              3\n",
       "Extractiongoogle       3\n",
       "Emails                 3\n",
       "Ai                     3\n",
       "Number,                2\n",
       "Each                   2\n",
       "Apollo.Io              2\n",
       "Bot                    2\n",
       "(Pull                  2\n",
       "Updates                2\n",
       "Out                    2\n",
       "Verifier🔔              2\n",
       "Contact)               2\n",
       "Help                   2\n",
       "Market                 2\n",
       "Experienced            2\n",
       "Scrapingapi            2\n",
       "Entrydata              2\n",
       "Miningpython           2\n",
       "Specialist             2\n",
       "Listing                2\n",
       "Accuracy               2\n",
       "Required               2\n",
       "Name: count, dtype: int64"
      ]
     },
     "execution_count": 55,
     "metadata": {},
     "output_type": "execute_result"
    }
   ],
   "source": [
    "value_counts = titles_df[\"titles\"].value_counts()\n",
    "pd.set_option(\"display.max_rows\", 500)\n",
    "value_counts.head(100)"
   ]
  }
 ],
 "metadata": {
  "kernelspec": {
   "display_name": "analysis",
   "language": "python",
   "name": "python3"
  },
  "language_info": {
   "codemirror_mode": {
    "name": "ipython",
    "version": 3
   },
   "file_extension": ".py",
   "mimetype": "text/x-python",
   "name": "python",
   "nbconvert_exporter": "python",
   "pygments_lexer": "ipython3",
   "version": "3.11.7"
  }
 },
 "nbformat": 4,
 "nbformat_minor": 2
}
